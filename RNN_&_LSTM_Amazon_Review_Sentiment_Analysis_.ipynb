{
  "nbformat": 4,
  "nbformat_minor": 0,
  "metadata": {
    "colab": {
      "provenance": [],
      "machine_shape": "hm",
      "gpuClass": "premium"
    },
    "kernelspec": {
      "name": "python3",
      "display_name": "Python 3"
    },
    "language_info": {
      "name": "python"
    },
    "accelerator": "GPU",
    "gpuClass": "premium"
  },
  "cells": [
    {
      "cell_type": "markdown",
      "source": [
        "# Import Statements"
      ],
      "metadata": {
        "id": "QCckWTkci614"
      }
    },
    {
      "cell_type": "code",
      "execution_count": null,
      "metadata": {
        "colab": {
          "base_uri": "https://localhost:8080/",
          "height": 1000
        },
        "id": "ErZKhDBim6aD",
        "outputId": "4dee7745-a812-4429-d31f-fdc66495c3df"
      },
      "outputs": [
        {
          "output_type": "stream",
          "name": "stdout",
          "text": [
            "Looking in indexes: https://pypi.org/simple, https://us-python.pkg.dev/colab-wheels/public/simple/\n",
            "Requirement already satisfied: tensorflow-text in /usr/local/lib/python3.8/dist-packages (2.11.0)\n",
            "Requirement already satisfied: tensorflow<2.12,>=2.11.0 in /usr/local/lib/python3.8/dist-packages (from tensorflow-text) (2.11.0)\n",
            "Requirement already satisfied: tensorflow-hub>=0.8.0 in /usr/local/lib/python3.8/dist-packages (from tensorflow-text) (0.12.0)\n",
            "Requirement already satisfied: tensorflow-io-gcs-filesystem>=0.23.1 in /usr/local/lib/python3.8/dist-packages (from tensorflow<2.12,>=2.11.0->tensorflow-text) (0.28.0)\n",
            "Requirement already satisfied: libclang>=13.0.0 in /usr/local/lib/python3.8/dist-packages (from tensorflow<2.12,>=2.11.0->tensorflow-text) (14.0.6)\n",
            "Requirement already satisfied: six>=1.12.0 in /usr/local/lib/python3.8/dist-packages (from tensorflow<2.12,>=2.11.0->tensorflow-text) (1.15.0)\n",
            "Requirement already satisfied: h5py>=2.9.0 in /usr/local/lib/python3.8/dist-packages (from tensorflow<2.12,>=2.11.0->tensorflow-text) (3.1.0)\n",
            "Requirement already satisfied: typing-extensions>=3.6.6 in /usr/local/lib/python3.8/dist-packages (from tensorflow<2.12,>=2.11.0->tensorflow-text) (4.1.1)\n",
            "Requirement already satisfied: keras<2.12,>=2.11.0 in /usr/local/lib/python3.8/dist-packages (from tensorflow<2.12,>=2.11.0->tensorflow-text) (2.11.0)\n",
            "Requirement already satisfied: tensorflow-estimator<2.12,>=2.11.0 in /usr/local/lib/python3.8/dist-packages (from tensorflow<2.12,>=2.11.0->tensorflow-text) (2.11.0)\n",
            "Requirement already satisfied: gast<=0.4.0,>=0.2.1 in /usr/local/lib/python3.8/dist-packages (from tensorflow<2.12,>=2.11.0->tensorflow-text) (0.4.0)\n",
            "Requirement already satisfied: packaging in /usr/local/lib/python3.8/dist-packages (from tensorflow<2.12,>=2.11.0->tensorflow-text) (21.3)\n",
            "Requirement already satisfied: flatbuffers>=2.0 in /usr/local/lib/python3.8/dist-packages (from tensorflow<2.12,>=2.11.0->tensorflow-text) (22.11.23)\n",
            "Requirement already satisfied: absl-py>=1.0.0 in /usr/local/lib/python3.8/dist-packages (from tensorflow<2.12,>=2.11.0->tensorflow-text) (1.3.0)\n",
            "Requirement already satisfied: setuptools in /usr/local/lib/python3.8/dist-packages (from tensorflow<2.12,>=2.11.0->tensorflow-text) (57.4.0)\n",
            "Requirement already satisfied: google-pasta>=0.1.1 in /usr/local/lib/python3.8/dist-packages (from tensorflow<2.12,>=2.11.0->tensorflow-text) (0.2.0)\n",
            "Requirement already satisfied: tensorboard<2.12,>=2.11 in /usr/local/lib/python3.8/dist-packages (from tensorflow<2.12,>=2.11.0->tensorflow-text) (2.11.0)\n",
            "Requirement already satisfied: numpy>=1.20 in /usr/local/lib/python3.8/dist-packages (from tensorflow<2.12,>=2.11.0->tensorflow-text) (1.21.6)\n",
            "Requirement already satisfied: grpcio<2.0,>=1.24.3 in /usr/local/lib/python3.8/dist-packages (from tensorflow<2.12,>=2.11.0->tensorflow-text) (1.50.0)\n",
            "Requirement already satisfied: opt-einsum>=2.3.2 in /usr/local/lib/python3.8/dist-packages (from tensorflow<2.12,>=2.11.0->tensorflow-text) (3.3.0)\n",
            "Requirement already satisfied: wrapt>=1.11.0 in /usr/local/lib/python3.8/dist-packages (from tensorflow<2.12,>=2.11.0->tensorflow-text) (1.14.1)\n",
            "Requirement already satisfied: termcolor>=1.1.0 in /usr/local/lib/python3.8/dist-packages (from tensorflow<2.12,>=2.11.0->tensorflow-text) (2.1.1)\n",
            "Requirement already satisfied: protobuf<3.20,>=3.9.2 in /usr/local/lib/python3.8/dist-packages (from tensorflow<2.12,>=2.11.0->tensorflow-text) (3.19.6)\n",
            "Requirement already satisfied: astunparse>=1.6.0 in /usr/local/lib/python3.8/dist-packages (from tensorflow<2.12,>=2.11.0->tensorflow-text) (1.6.3)\n",
            "Requirement already satisfied: wheel<1.0,>=0.23.0 in /usr/local/lib/python3.8/dist-packages (from astunparse>=1.6.0->tensorflow<2.12,>=2.11.0->tensorflow-text) (0.38.4)\n",
            "Requirement already satisfied: google-auth-oauthlib<0.5,>=0.4.1 in /usr/local/lib/python3.8/dist-packages (from tensorboard<2.12,>=2.11->tensorflow<2.12,>=2.11.0->tensorflow-text) (0.4.6)\n",
            "Requirement already satisfied: tensorboard-plugin-wit>=1.6.0 in /usr/local/lib/python3.8/dist-packages (from tensorboard<2.12,>=2.11->tensorflow<2.12,>=2.11.0->tensorflow-text) (1.8.1)\n",
            "Requirement already satisfied: requests<3,>=2.21.0 in /usr/local/lib/python3.8/dist-packages (from tensorboard<2.12,>=2.11->tensorflow<2.12,>=2.11.0->tensorflow-text) (2.23.0)\n",
            "Requirement already satisfied: werkzeug>=1.0.1 in /usr/local/lib/python3.8/dist-packages (from tensorboard<2.12,>=2.11->tensorflow<2.12,>=2.11.0->tensorflow-text) (1.0.1)\n",
            "Requirement already satisfied: google-auth<3,>=1.6.3 in /usr/local/lib/python3.8/dist-packages (from tensorboard<2.12,>=2.11->tensorflow<2.12,>=2.11.0->tensorflow-text) (2.14.1)\n",
            "Requirement already satisfied: markdown>=2.6.8 in /usr/local/lib/python3.8/dist-packages (from tensorboard<2.12,>=2.11->tensorflow<2.12,>=2.11.0->tensorflow-text) (3.4.1)\n",
            "Requirement already satisfied: tensorboard-data-server<0.7.0,>=0.6.0 in /usr/local/lib/python3.8/dist-packages (from tensorboard<2.12,>=2.11->tensorflow<2.12,>=2.11.0->tensorflow-text) (0.6.1)\n",
            "Requirement already satisfied: rsa<5,>=3.1.4 in /usr/local/lib/python3.8/dist-packages (from google-auth<3,>=1.6.3->tensorboard<2.12,>=2.11->tensorflow<2.12,>=2.11.0->tensorflow-text) (4.9)\n",
            "Requirement already satisfied: pyasn1-modules>=0.2.1 in /usr/local/lib/python3.8/dist-packages (from google-auth<3,>=1.6.3->tensorboard<2.12,>=2.11->tensorflow<2.12,>=2.11.0->tensorflow-text) (0.2.8)\n",
            "Requirement already satisfied: cachetools<6.0,>=2.0.0 in /usr/local/lib/python3.8/dist-packages (from google-auth<3,>=1.6.3->tensorboard<2.12,>=2.11->tensorflow<2.12,>=2.11.0->tensorflow-text) (5.2.0)\n",
            "Requirement already satisfied: requests-oauthlib>=0.7.0 in /usr/local/lib/python3.8/dist-packages (from google-auth-oauthlib<0.5,>=0.4.1->tensorboard<2.12,>=2.11->tensorflow<2.12,>=2.11.0->tensorflow-text) (1.3.1)\n",
            "Requirement already satisfied: importlib-metadata>=4.4 in /usr/local/lib/python3.8/dist-packages (from markdown>=2.6.8->tensorboard<2.12,>=2.11->tensorflow<2.12,>=2.11.0->tensorflow-text) (4.13.0)\n",
            "Requirement already satisfied: zipp>=0.5 in /usr/local/lib/python3.8/dist-packages (from importlib-metadata>=4.4->markdown>=2.6.8->tensorboard<2.12,>=2.11->tensorflow<2.12,>=2.11.0->tensorflow-text) (3.10.0)\n",
            "Requirement already satisfied: pyasn1<0.5.0,>=0.4.6 in /usr/local/lib/python3.8/dist-packages (from pyasn1-modules>=0.2.1->google-auth<3,>=1.6.3->tensorboard<2.12,>=2.11->tensorflow<2.12,>=2.11.0->tensorflow-text) (0.4.8)\n",
            "Requirement already satisfied: idna<3,>=2.5 in /usr/local/lib/python3.8/dist-packages (from requests<3,>=2.21.0->tensorboard<2.12,>=2.11->tensorflow<2.12,>=2.11.0->tensorflow-text) (2.10)\n",
            "Requirement already satisfied: chardet<4,>=3.0.2 in /usr/local/lib/python3.8/dist-packages (from requests<3,>=2.21.0->tensorboard<2.12,>=2.11->tensorflow<2.12,>=2.11.0->tensorflow-text) (3.0.4)\n",
            "Requirement already satisfied: urllib3!=1.25.0,!=1.25.1,<1.26,>=1.21.1 in /usr/local/lib/python3.8/dist-packages (from requests<3,>=2.21.0->tensorboard<2.12,>=2.11->tensorflow<2.12,>=2.11.0->tensorflow-text) (1.24.3)\n",
            "Requirement already satisfied: certifi>=2017.4.17 in /usr/local/lib/python3.8/dist-packages (from requests<3,>=2.21.0->tensorboard<2.12,>=2.11->tensorflow<2.12,>=2.11.0->tensorflow-text) (2022.9.24)\n",
            "Requirement already satisfied: oauthlib>=3.0.0 in /usr/local/lib/python3.8/dist-packages (from requests-oauthlib>=0.7.0->google-auth-oauthlib<0.5,>=0.4.1->tensorboard<2.12,>=2.11->tensorflow<2.12,>=2.11.0->tensorflow-text) (3.2.2)\n",
            "Requirement already satisfied: pyparsing!=3.0.5,>=2.0.2 in /usr/local/lib/python3.8/dist-packages (from packaging->tensorflow<2.12,>=2.11.0->tensorflow-text) (3.0.9)\n"
          ]
        },
        {
          "output_type": "error",
          "ename": "AttributeError",
          "evalue": "ignored",
          "traceback": [
            "\u001b[0;31m---------------------------------------------------------------------------\u001b[0m",
            "\u001b[0;31mAttributeError\u001b[0m                            Traceback (most recent call last)",
            "\u001b[0;32m<ipython-input-1-52efbb0792f3>\u001b[0m in \u001b[0;36m<module>\u001b[0;34m\u001b[0m\n\u001b[1;32m     14\u001b[0m \u001b[0;32mimport\u001b[0m \u001b[0mtensorflow_text\u001b[0m \u001b[0;32mas\u001b[0m \u001b[0mtf_text\u001b[0m\u001b[0;34m\u001b[0m\u001b[0;34m\u001b[0m\u001b[0m\n\u001b[1;32m     15\u001b[0m \u001b[0;34m\u001b[0m\u001b[0m\n\u001b[0;32m---> 16\u001b[0;31m \u001b[0mprint\u001b[0m\u001b[0;34m(\u001b[0m\u001b[0mtf\u001b[0m\u001b[0;34m.\u001b[0m \u001b[0m__version___\u001b[0m\u001b[0;34m)\u001b[0m\u001b[0;34m\u001b[0m\u001b[0;34m\u001b[0m\u001b[0m\n\u001b[0m",
            "\u001b[0;31mAttributeError\u001b[0m: module 'tensorflow' has no attribute '__version___'"
          ]
        }
      ],
      "source": [
        "\n",
        "import collections\n",
        "import pathlib\n",
        "import numpy as np\n",
        "import tensorflow as tf\n",
        "from tensorflow import keras\n",
        "from tensorflow.keras import layers\n",
        "from tensorflow.keras import losses\n",
        "from tensorflow.keras import utils\n",
        "from tensorflow.keras.layers import TextVectorization\n",
        "import tensorflow_datasets as tfds\n",
        "!pip install tensorflow-text\n",
        "import tensorflow_text as tf_text\n",
        "import matplotlib.pyplot as plt\n"
      ]
    },
    {
      "cell_type": "code",
      "source": [
        "\n",
        "# Helper function for plotting\n",
        "\n",
        "def plot_graphs(history, metric):\n",
        "  plt.plot(history.history[metric])\n",
        "  plt.plot(history.history['val_'+metric], '')\n",
        "  plt.xlabel(\"Epochs\")\n",
        "  plt.ylabel(metric)\n",
        "  plt.legend([metric, 'val_'+metric])"
      ],
      "metadata": {
        "id": "noPKt0im7FVg"
      },
      "execution_count": null,
      "outputs": []
    },
    {
      "cell_type": "markdown",
      "source": [
        "# Preprocessing Data for use with RNN"
      ],
      "metadata": {
        "id": "CSRqJkobzyCu"
      }
    },
    {
      "cell_type": "code",
      "source": [
        "data_url = 'https://storage.googleapis.com/heyheyeheyeh/FinalAmazon.zip'\n",
        "# Data is efficiently stored on a public google cloud account\n",
        "dataset_dir = utils.get_file(\n",
        "    origin=data_url,\n",
        "    extract =True,\n",
        "    cache_dir='datasets',\n",
        "    cache_subdir=''\n",
        "    )\n",
        "\n",
        "dataset_dir = pathlib.Path(dataset_dir).parent"
      ],
      "metadata": {
        "id": "HJWF5vFnqzE5",
        "colab": {
          "base_uri": "https://localhost:8080/"
        },
        "outputId": "b30b59f3-e22a-42c4-e7fb-b7b546eb4bd5"
      },
      "execution_count": null,
      "outputs": [
        {
          "output_type": "stream",
          "name": "stdout",
          "text": [
            "Downloading data from https://storage.googleapis.com/heyheyeheyeh/FinalAmazon.zip\n",
            "667801/667801 [==============================] - 0s 0us/step\n"
          ]
        }
      ]
    },
    {
      "cell_type": "code",
      "source": [
        "list(dataset_dir.iterdir())"
      ],
      "metadata": {
        "colab": {
          "base_uri": "https://localhost:8080/"
        },
        "id": "K6gAie-a4zEE",
        "outputId": "f5f07047-6a5c-4bb5-99f8-6c6bed022a66"
      },
      "execution_count": null,
      "outputs": [
        {
          "output_type": "execute_result",
          "data": {
            "text/plain": [
              "[PosixPath('/tmp/.keras/FinalAmazon.zip'),\n",
              " PosixPath('/tmp/.keras/FinalAmazon'),\n",
              " PosixPath('/tmp/.keras/__MACOSX')]"
            ]
          },
          "metadata": {},
          "execution_count": 4
        }
      ]
    },
    {
      "cell_type": "code",
      "source": [
        "# Extracting training data\n",
        "train_dir = dataset_dir/'FinalAmazon'\n",
        "list(train_dir.iterdir())"
      ],
      "metadata": {
        "colab": {
          "base_uri": "https://localhost:8080/"
        },
        "id": "XI82MngCsRUM",
        "outputId": "228c1c59-11e8-4b48-9646-1fc2b92981ad"
      },
      "execution_count": null,
      "outputs": [
        {
          "output_type": "execute_result",
          "data": {
            "text/plain": [
              "[PosixPath('/tmp/.keras/FinalAmazon/Negative '),\n",
              " PosixPath('/tmp/.keras/FinalAmazon/Positive')]"
            ]
          },
          "metadata": {},
          "execution_count": 5
        }
      ]
    },
    {
      "cell_type": "code",
      "source": [
        "# The size of each batch of data\n",
        "batch_size = 32\n",
        "# Random seed\n",
        "seed = 42"
      ],
      "metadata": {
        "id": "QL_I0jvy6JzG"
      },
      "execution_count": null,
      "outputs": []
    },
    {
      "cell_type": "code",
      "source": [
        "# Keras method to make a text dataset - First creating train and test sets\n",
        "(raw_train_ds, raw_test_ds) = utils.text_dataset_from_directory(\n",
        "    train_dir,\n",
        "    batch_size=batch_size,\n",
        "    validation_split=0.2,\n",
        "    subset='both',\n",
        "    seed=seed)\n",
        "# Then creating validation set\n",
        "raw_val_ds = utils.text_dataset_from_directory(\n",
        "    train_dir,\n",
        "    batch_size=batch_size,\n",
        "    validation_split=0.2,\n",
        "    subset='validation',\n",
        "    seed=seed)\n"
      ],
      "metadata": {
        "colab": {
          "base_uri": "https://localhost:8080/"
        },
        "id": "YBnVR2BEvJax",
        "outputId": "93017039-3d38-41a9-8576-fe3afe28dd33"
      },
      "execution_count": null,
      "outputs": [
        {
          "output_type": "stream",
          "name": "stdout",
          "text": [
            "Found 1000 files belonging to 2 classes.\n",
            "Using 800 files for training.\n",
            "Using 200 files for validation.\n",
            "Found 1000 files belonging to 2 classes.\n",
            "Using 200 files for validation.\n"
          ]
        }
      ]
    },
    {
      "cell_type": "markdown",
      "source": [
        "Since text data is of varying lengths, we need to normalize the lengths in order to design a neural network that can take our text data as an input. One way to do this is Text Vectorization, which takes text data and turns it into a sequence of integers of equal size. Here, we will turn our text data into a set of binary integers that maps to our text data\n",
        "\n",
        "Keras has a conveninet function that does this by:\n",
        "\n",
        "1. Standardizing each example (lowercasing + punctuation stripping)\n",
        "2. Splitting each example into substrings (usually words)\n",
        "3. Recombining substrings into tokens (usually ngrams)\n",
        "4. Index tokens (associate a unique int value with each token)\n",
        "5. Transform each example using this index, either into a vector of ints or a dense float vector.\n",
        "\n",
        "We specify the vocab size as 10000, this repsents the maximum amount of words"
      ],
      "metadata": {
        "id": "uy5TNMdHQHcO"
      }
    },
    {
      "cell_type": "code",
      "source": [
        "VOCAB_SIZE = 10000\n",
        "binary_vectorize_layer = TextVectorization(\n",
        "    max_tokens=VOCAB_SIZE,\n",
        "    output_mode='binary')"
      ],
      "metadata": {
        "id": "tiedjPqO0alI"
      },
      "execution_count": null,
      "outputs": []
    },
    {
      "cell_type": "code",
      "source": [
        "MAX_SEQUENCE_LENGTH = 250\n",
        "\n",
        "int_vectorize_layer = TextVectorization(\n",
        "    max_tokens=VOCAB_SIZE,\n",
        "  #  output_mode='int',\n",
        "    output_sequence_length=MAX_SEQUENCE_LENGTH)\n"
      ],
      "metadata": {
        "id": "8k8sqxb4OAQx"
      },
      "execution_count": null,
      "outputs": []
    },
    {
      "cell_type": "code",
      "source": [
        "# Make a text-only dataset (without labels), then call `TextVectorization.adapt`.\n",
        "train_text = raw_train_ds.map(lambda text, labels: text)\n",
        "binary_vectorize_layer.adapt(train_text)\n",
        "int_vectorize_layer.adapt(train_text)\n"
      ],
      "metadata": {
        "id": "1AJ-8CFaqnQy",
        "colab": {
          "base_uri": "https://localhost:8080/"
        },
        "outputId": "b78d3c0d-111d-4417-a389-ba8d50447bf6"
      },
      "execution_count": null,
      "outputs": [
        {
          "output_type": "stream",
          "name": "stderr",
          "text": [
            "WARNING:tensorflow:From /usr/local/lib/python3.8/dist-packages/tensorflow/python/autograph/pyct/static_analysis/liveness.py:83: Analyzer.lamba_check (from tensorflow.python.autograph.pyct.static_analysis.liveness) is deprecated and will be removed after 2023-09-23.\n",
            "Instructions for updating:\n",
            "Lambda fuctions will be no more assumed to be used in the statement where they are used, or at least in the same block. https://github.com/tensorflow/tensorflow/issues/56089\n"
          ]
        }
      ]
    },
    {
      "cell_type": "code",
      "source": [
        "\n",
        "def int_vectorize_text(text, label):\n",
        "  text = tf.expand_dims(text, -1)\n",
        "  return int_vectorize_layer(text), label"
      ],
      "metadata": {
        "id": "alx7NCJNom0l"
      },
      "execution_count": null,
      "outputs": []
    },
    {
      "cell_type": "code",
      "source": [
        "text_batch, label_batch = next(iter(raw_train_ds))\n",
        "first_question, first_label = text_batch[0], label_batch[0]\n",
        "print(\"Question\", first_question)\n",
        "print(\"Label\", first_label)\n"
      ],
      "metadata": {
        "colab": {
          "base_uri": "https://localhost:8080/"
        },
        "id": "y--GcMLgkQ9Z",
        "outputId": "70c3ec4c-7802-4f56-9611-624888c9f803"
      },
      "execution_count": null,
      "outputs": [
        {
          "output_type": "stream",
          "name": "stdout",
          "text": [
            "Question tf.Tensor(b'It finds my cell phone right away when I enter the car.\\n', shape=(), dtype=string)\n",
            "Label tf.Tensor(1, shape=(), dtype=int32)\n"
          ]
        }
      ]
    },
    {
      "cell_type": "code",
      "source": [],
      "metadata": {
        "id": "M9eaGjBTkYjP"
      },
      "execution_count": null,
      "outputs": []
    },
    {
      "cell_type": "code",
      "source": [
        "print(\"'int' vectorized question:\",\n",
        "      int_vectorize_text(first_question, first_label)[0])"
      ],
      "metadata": {
        "colab": {
          "base_uri": "https://localhost:8080/"
        },
        "id": "i-NIfOEFkbed",
        "outputId": "f74a6ac4-a773-4185-85b6-581d3126cfe4"
      },
      "execution_count": null,
      "outputs": [
        {
          "output_type": "stream",
          "name": "stdout",
          "text": [
            "'int' vectorized question: tf.Tensor(\n",
            "[[   5 1332   11  142   10  159  330   61    4 1368    2   88    0    0\n",
            "     0    0    0    0    0    0    0    0    0    0    0    0    0    0\n",
            "     0    0    0    0    0    0    0    0    0    0    0    0    0    0\n",
            "     0    0    0    0    0    0    0    0    0    0    0    0    0    0\n",
            "     0    0    0    0    0    0    0    0    0    0    0    0    0    0\n",
            "     0    0    0    0    0    0    0    0    0    0    0    0    0    0\n",
            "     0    0    0    0    0    0    0    0    0    0    0    0    0    0\n",
            "     0    0    0    0    0    0    0    0    0    0    0    0    0    0\n",
            "     0    0    0    0    0    0    0    0    0    0    0    0    0    0\n",
            "     0    0    0    0    0    0    0    0    0    0    0    0    0    0\n",
            "     0    0    0    0    0    0    0    0    0    0    0    0    0    0\n",
            "     0    0    0    0    0    0    0    0    0    0    0    0    0    0\n",
            "     0    0    0    0    0    0    0    0    0    0    0    0    0    0\n",
            "     0    0    0    0    0    0    0    0    0    0    0    0    0    0\n",
            "     0    0    0    0    0    0    0    0    0    0    0    0    0    0\n",
            "     0    0    0    0    0    0    0    0    0    0    0    0    0    0\n",
            "     0    0    0    0    0    0    0    0    0    0    0    0    0    0\n",
            "     0    0    0    0    0    0    0    0    0    0    0    0]], shape=(1, 250), dtype=int64)\n"
          ]
        }
      ]
    },
    {
      "cell_type": "code",
      "source": [
        "print(\"1289 ---> \", int_vectorize_layer.get_vocabulary()[1289])\n",
        "print(\"313 ---> \", int_vectorize_layer.get_vocabulary()[313])\n",
        "print(\"Vocabulary size: {}\".format(len(int_vectorize_layer.get_vocabulary())))"
      ],
      "metadata": {
        "colab": {
          "base_uri": "https://localhost:8080/"
        },
        "id": "kLUyPwlbkdi1",
        "outputId": "b91dea9a-bffa-4d71-d3d0-8e629098d1bb"
      },
      "execution_count": null,
      "outputs": [
        {
          "output_type": "stream",
          "name": "stdout",
          "text": [
            "1289 --->  gimmick\n",
            "313 --->  family\n",
            "Vocabulary size: 1652\n"
          ]
        }
      ]
    },
    {
      "cell_type": "code",
      "source": [
        "\n",
        "\n",
        "int_train_ds = raw_train_ds.map(int_vectorize_text)\n",
        "int_val_ds = raw_val_ds.map(int_vectorize_text)\n",
        "int_test_ds = raw_test_ds.map(int_vectorize_text)"
      ],
      "metadata": {
        "id": "fMH8Mh6ukjd6"
      },
      "execution_count": null,
      "outputs": []
    },
    {
      "cell_type": "code",
      "source": [
        "AUTOTUNE = tf.data.AUTOTUNE\n",
        "\n",
        "def configure_dataset(dataset):\n",
        "  return dataset.cache().prefetch(buffer_size=AUTOTUNE)"
      ],
      "metadata": {
        "id": "iPreh0jMkn4u"
      },
      "execution_count": null,
      "outputs": []
    },
    {
      "cell_type": "code",
      "source": [
        "\n",
        "int_train_ds = configure_dataset(int_train_ds)\n",
        "int_val_ds = configure_dataset(int_val_ds)\n",
        "int_test_ds = configure_dataset(int_test_ds)"
      ],
      "metadata": {
        "id": "qGSQUmWmkr1L"
      },
      "execution_count": null,
      "outputs": []
    },
    {
      "cell_type": "code",
      "source": [],
      "metadata": {
        "id": "5LdgRBycktKt"
      },
      "execution_count": null,
      "outputs": []
    },
    {
      "cell_type": "markdown",
      "source": [
        "# Traing a Recurrent Neural Network Model"
      ],
      "metadata": {
        "id": "13V0_vnh0AVp"
      }
    },
    {
      "cell_type": "code",
      "source": [
        "# Keras makes it easy to train an RNN with an LSTM unit that helps improve text data processing.\n",
        "# Essesntially, LSTM provides a level of memory and context to data processed in the network\n",
        "def create_model(vocab_size, num_labels):\n",
        "  model = tf.keras.Sequential([\n",
        "      layers.Embedding(vocab_size, 64, mask_zero=True),\n",
        "       tf.keras.layers.Bidirectional(tf.keras.layers.LSTM(364,  return_sequences=True)),\n",
        "      tf.keras.layers.Bidirectional(tf.keras.layers.LSTM(32)),\n",
        "      layers.Dense(64, activation='relu'),\n",
        "      layers.Dense(num_labels),\n",
        "  ])\n",
        "  return model"
      ],
      "metadata": {
        "id": "qmRN2k9vk29q"
      },
      "execution_count": null,
      "outputs": []
    },
    {
      "cell_type": "code",
      "source": [
        "# `vocab_size` is `VOCAB_SIZE + 1` since `0` is used additionally for padding.\n",
        "int_model = create_model(vocab_size=VOCAB_SIZE + 1, num_labels=1)\n",
        "int_model.compile(\n",
        "    loss=losses.BinaryCrossentropy(from_logits=True),\n",
        "    optimizer='adam',\n",
        "    metrics=['accuracy'])\n",
        "history = int_model.fit(int_train_ds, validation_data=int_val_ds, epochs=10)"
      ],
      "metadata": {
        "colab": {
          "base_uri": "https://localhost:8080/"
        },
        "id": "oP8KePHek7Ke",
        "outputId": "546c93c9-8de6-4e00-d954-1417a9de0bd1"
      },
      "execution_count": null,
      "outputs": [
        {
          "output_type": "stream",
          "name": "stdout",
          "text": [
            "Epoch 1/10\n",
            "25/25 [==============================] - 30s 376ms/step - loss: 0.6848 - accuracy: 0.4988 - val_loss: 0.6493 - val_accuracy: 0.5100\n",
            "Epoch 2/10\n",
            "25/25 [==============================] - 1s 26ms/step - loss: 0.4674 - accuracy: 0.7475 - val_loss: 0.6404 - val_accuracy: 0.8000\n",
            "Epoch 3/10\n",
            "25/25 [==============================] - 1s 24ms/step - loss: 0.2167 - accuracy: 0.9300 - val_loss: 0.5645 - val_accuracy: 0.8200\n",
            "Epoch 4/10\n",
            "25/25 [==============================] - 1s 24ms/step - loss: 0.1390 - accuracy: 0.9563 - val_loss: 0.5586 - val_accuracy: 0.8400\n",
            "Epoch 5/10\n",
            "25/25 [==============================] - 1s 25ms/step - loss: 0.1201 - accuracy: 0.9663 - val_loss: 0.5214 - val_accuracy: 0.8300\n",
            "Epoch 6/10\n",
            "25/25 [==============================] - 1s 25ms/step - loss: 0.0511 - accuracy: 0.9912 - val_loss: 0.5832 - val_accuracy: 0.8550\n",
            "Epoch 7/10\n",
            "25/25 [==============================] - 1s 25ms/step - loss: 0.0314 - accuracy: 0.9925 - val_loss: 0.5394 - val_accuracy: 0.8350\n",
            "Epoch 8/10\n",
            "25/25 [==============================] - 1s 29ms/step - loss: 0.0160 - accuracy: 0.9987 - val_loss: 0.7329 - val_accuracy: 0.8350\n",
            "Epoch 9/10\n",
            "25/25 [==============================] - 1s 28ms/step - loss: 0.0115 - accuracy: 0.9987 - val_loss: 0.8470 - val_accuracy: 0.8500\n",
            "Epoch 10/10\n",
            "25/25 [==============================] - 1s 23ms/step - loss: 0.0088 - accuracy: 0.9987 - val_loss: 0.8679 - val_accuracy: 0.8400\n"
          ]
        }
      ]
    },
    {
      "cell_type": "code",
      "source": [],
      "metadata": {
        "id": "k4RXUeKWk85J"
      },
      "execution_count": null,
      "outputs": []
    },
    {
      "cell_type": "code",
      "source": [
        "print(\"RNN model on int vectorized data:\")\n",
        "print(int_model.summary())"
      ],
      "metadata": {
        "id": "1lbrYs8kk_yy",
        "colab": {
          "base_uri": "https://localhost:8080/"
        },
        "outputId": "16be058e-de8b-45de-df54-346d4656c554"
      },
      "execution_count": null,
      "outputs": [
        {
          "output_type": "stream",
          "name": "stdout",
          "text": [
            "RNN model on int vectorized data:\n",
            "Model: \"sequential\"\n",
            "_________________________________________________________________\n",
            " Layer (type)                Output Shape              Param #   \n",
            "=================================================================\n",
            " embedding (Embedding)       (None, None, 64)          640064    \n",
            "                                                                 \n",
            " bidirectional (Bidirectiona  (None, None, 728)        1249248   \n",
            " l)                                                              \n",
            "                                                                 \n",
            " bidirectional_1 (Bidirectio  (None, 64)               194816    \n",
            " nal)                                                            \n",
            "                                                                 \n",
            " dense (Dense)               (None, 64)                4160      \n",
            "                                                                 \n",
            " dense_1 (Dense)             (None, 1)                 65        \n",
            "                                                                 \n",
            "=================================================================\n",
            "Total params: 2,088,353\n",
            "Trainable params: 2,088,353\n",
            "Non-trainable params: 0\n",
            "_________________________________________________________________\n",
            "None\n"
          ]
        }
      ]
    },
    {
      "cell_type": "code",
      "source": [
        "\n",
        "int_loss, int_accuracy = int_model.evaluate(int_train_ds)\n",
        "int_loss2, int_accuracy2 = int_model.evaluate(int_val_ds)\n",
        "int_loss3, int_accuracy3 = int_model.evaluate(int_test_ds)\n",
        "\n",
        "print(\"Int TRAIN model accuracy: {:2.2%}\".format(int_accuracy))\n",
        "print(\"Int VAL model accuracy: {:2.2%}\".format(int_accuracy2))\n",
        "print(\"Int TEST model accuracy: {:2.2%}\".format(int_accuracy3))"
      ],
      "metadata": {
        "id": "fzaiwJdGlEZz",
        "colab": {
          "base_uri": "https://localhost:8080/"
        },
        "outputId": "2e3d6c1e-943d-4bd7-b1a6-aab526c395f6"
      },
      "execution_count": null,
      "outputs": [
        {
          "output_type": "stream",
          "name": "stdout",
          "text": [
            "25/25 [==============================] - 0s 9ms/step - loss: 0.0068 - accuracy: 0.9987\n",
            "7/7 [==============================] - 0s 9ms/step - loss: 0.8679 - accuracy: 0.8400\n",
            "7/7 [==============================] - 0s 11ms/step - loss: 0.8679 - accuracy: 0.8400\n",
            "Int TRAIN model accuracy: 99.87%\n",
            "Int VAL model accuracy: 84.00%\n",
            "Int TEST model accuracy: 84.00%\n"
          ]
        }
      ]
    },
    {
      "cell_type": "code",
      "source": [
        "plt.plot(history.history['accuracy'])\n",
        "plt.plot(history.history['val_accuracy'])\n",
        "plt.title('model accuracy')\n",
        "plt.ylabel('accuracy')\n",
        "plt.xlabel('epoch')\n",
        "plt.legend(['train', 'test'], loc='upper left')\n",
        "plt.show()\n",
        "# summarize history for loss\n",
        "plt.plot(history.history['loss'])\n",
        "plt.plot(history.history['val_loss'])\n",
        "plt.title('model loss')\n",
        "plt.ylabel('loss')\n",
        "plt.xlabel('epoch')\n",
        "plt.legend(['train', 'test'], loc='upper left')\n",
        "plt.show()"
      ],
      "metadata": {
        "id": "Af_KlJW2lHUf",
        "colab": {
          "base_uri": "https://localhost:8080/",
          "height": 573
        },
        "outputId": "2963eb91-3f38-4657-e9b3-3d3973d99f65"
      },
      "execution_count": null,
      "outputs": [
        {
          "output_type": "display_data",
          "data": {
            "text/plain": [
              "<Figure size 432x288 with 1 Axes>"
            ],
            "image/png": "[encoded data removed]"
          },
          "metadata": {
            "needs_background": "light"
          }
        },
        {
          "output_type": "display_data",
          "data": {
            "text/plain": [
              "<Figure size 432x288 with 1 Axes>"
            ],
            "image/png": "[encoded data removed]"
          },
          "metadata": {
            "needs_background": "light"
          }
        }
      ]
    },
    {
      "cell_type": "code",
      "source": [
        "## probability_model = tf.keras.Sequential([int_model,\n",
        "  #                                       tf.keras.layers.Sigmoid()])\n",
        "\n",
        "text_batch, label_batch = int_test_ds.as_numpy_iterator().next()\n",
        "predictions = int_model.predict_on_batch(text_batch)\n",
        "\n",
        "# Apply a sigmoid since our model returns logits\n",
        "predictions = tf.nn.sigmoid(predictions)\n",
        "predictions = tf.where(predictions < 0.5, 0, 1)\n",
        "#print(predictions)"
      ],
      "metadata": {
        "id": "Xikp4doQvbSR"
      },
      "execution_count": null,
      "outputs": []
    },
    {
      "cell_type": "code",
      "source": [],
      "metadata": {
        "id": "AJ4wN2NtvuOC"
      },
      "execution_count": null,
      "outputs": []
    },
    {
      "cell_type": "code",
      "source": [
        "#for i in iteritems:\n",
        " # print(\"-----------------------------------\")\n",
        "  #print(\"Actual: \" + str(label_batch[i]) )\n",
        "  #print(\"Predicted: \" + str(predictions.numpy()[i][0]))"
      ],
      "metadata": {
        "id": "h0xa6Pg1lsrV"
      },
      "execution_count": null,
      "outputs": []
    },
    {
      "cell_type": "code",
      "source": [
        "print(label_batch[5])\n",
        "\n",
        "pred = predictions.numpy()\n",
        "print(pred[5][0])\n",
        "\n",
        "print(raw_test_ds.element_spec)\n",
        "mapp = {0: 'Negative Sentiment', 1: 'Positive Sentiment'}\n",
        "\n",
        "text_actual, label_actual = raw_test_ds.as_numpy_iterator().next()\n",
        "label_batch = np.vectorize(mapp.get)(label_batch)\n",
        "pred = np.vectorize(mapp.get)(pred)"
      ],
      "metadata": {
        "colab": {
          "base_uri": "https://localhost:8080/"
        },
        "id": "pmh10jfWQiW4",
        "outputId": "96652640-55da-442a-be85-e50e190f2c44"
      },
      "execution_count": null,
      "outputs": [
        {
          "output_type": "stream",
          "name": "stdout",
          "text": [
            "0\n",
            "1\n",
            "(TensorSpec(shape=(None,), dtype=tf.string, name=None), TensorSpec(shape=(None,), dtype=tf.int32, name=None))\n"
          ]
        }
      ]
    },
    {
      "cell_type": "code",
      "source": [
        "print(\"-----------------\")\n",
        "print(\"The following sentence was misclassified:\")\n",
        "print()\n",
        "print(text_actual[5].strip())\n",
        "print()\n",
        "print(\"Actual: \" + str(label_batch[5]) )\n",
        "print(\"Predicted: \" + str(pred[5][0]) )\n",
        "print()\n",
        "#############\n",
        "print(\"-----------------\")\n",
        "print(\"The following sentence was misclassified:\")\n",
        "print()\n",
        "print(text_actual[19].strip())\n",
        "print()\n",
        "print(\"Actual: \" + str(label_batch[19]) )\n",
        "print(\"Predicted: \" + str(pred[19][0]) )\n",
        "print()\n",
        "#############\n",
        "print(\"-----------------\")\n",
        "print(\"The following sentence was misclassified:\")\n",
        "print()\n",
        "print(text_actual[24].strip())\n",
        "print()\n",
        "print(\"Actual: \" + str(label_batch[24]) )\n",
        "print(\"Predicted: \" + str(pred[24][0]) )\n",
        "print()"
      ],
      "metadata": {
        "colab": {
          "base_uri": "https://localhost:8080/"
        },
        "id": "HdeZJKOkSnBc",
        "outputId": "83805764-9c71-4913-8941-e8812b521b0c"
      },
      "execution_count": null,
      "outputs": [
        {
          "output_type": "stream",
          "name": "stdout",
          "text": [
            "-----------------\n",
            "The following sentence was misclassified:\n",
            "\n",
            "b'The earpiece on this is too large or too heavy...it keeps falling out of my ear.'\n",
            "\n",
            "Actual: Negative Sentiment\n",
            "Predicted: Positive Sentiment\n",
            "\n",
            "-----------------\n",
            "The following sentence was misclassified:\n",
            "\n",
            "b\"This is hands down the best phone I've ever had.\"\n",
            "\n",
            "Actual: Positive Sentiment\n",
            "Predicted: Negative Sentiment\n",
            "\n",
            "-----------------\n",
            "The following sentence was misclassified:\n",
            "\n",
            "b'In my house I was getting dropped coverage upstairs and no coverage in my basement.'\n",
            "\n",
            "Actual: Negative Sentiment\n",
            "Predicted: Positive Sentiment\n",
            "\n"
          ]
        }
      ]
    },
    {
      "cell_type": "markdown",
      "source": [
        "I ran out of errors in the test data set, so we will next look at the validation set"
      ],
      "metadata": {
        "id": "ortqKjeNfseL"
      }
    },
    {
      "cell_type": "code",
      "source": [
        "text_batch, label_batch = int_val_ds.as_numpy_iterator().next()\n",
        "predictions = int_model.predict_on_batch(text_batch)\n",
        "\n",
        "# Apply a sigmoid since our model returns logits\n",
        "predictions = tf.nn.sigmoid(predictions)\n",
        "predictions = tf.where(predictions < 0.5, 0, 1)\n",
        "\n",
        "label_batch[10]"
      ],
      "metadata": {
        "colab": {
          "base_uri": "https://localhost:8080/"
        },
        "id": "0xAJpLs0fr95",
        "outputId": "467ef049-df98-49a8-d21a-4a615b681c99"
      },
      "execution_count": null,
      "outputs": [
        {
          "output_type": "execute_result",
          "data": {
            "text/plain": [
              "0"
            ]
          },
          "metadata": {},
          "execution_count": 115
        }
      ]
    },
    {
      "cell_type": "code",
      "source": [],
      "metadata": {
        "id": "GV-QwSKChQqb"
      },
      "execution_count": null,
      "outputs": []
    },
    {
      "cell_type": "code",
      "source": [
        "#for i in range(0,len(label_batch)):\n",
        " # print(\"-----------------------------------\")\n",
        "  #print(\"Actual: \" + str(label_batch[i]) )\n",
        " # print(\"Predicted: \" + str(predictions.numpy()[i][0]))"
      ],
      "metadata": {
        "id": "iAlnBsfmgA-a"
      },
      "execution_count": null,
      "outputs": []
    },
    {
      "cell_type": "code",
      "source": [
        "print(label_batch[5])\n",
        "\n",
        "pred = predictions.numpy()\n",
        "print(pred[5][0])\n",
        "\n",
        "print(raw_test_ds.element_spec)\n",
        "mapp = {0: 'Negative Sentiment', 1: 'Positive Sentiment'}\n",
        "\n",
        "text_actual, label_actual = raw_val_ds.as_numpy_iterator().next()\n",
        "label_batch = np.vectorize(mapp.get)(label_batch)\n",
        "pred = np.vectorize(mapp.get)(pred)"
      ],
      "metadata": {
        "colab": {
          "base_uri": "https://localhost:8080/"
        },
        "id": "yeStS5ZsgBbE",
        "outputId": "33b88519-ad91-41d2-c368-56ff2b50499b"
      },
      "execution_count": null,
      "outputs": [
        {
          "output_type": "stream",
          "name": "stdout",
          "text": [
            "0\n",
            "0\n",
            "(TensorSpec(shape=(None,), dtype=tf.string, name=None), TensorSpec(shape=(None,), dtype=tf.int32, name=None))\n"
          ]
        }
      ]
    },
    {
      "cell_type": "code",
      "source": [
        "print(\"-----------------\")\n",
        "print(\"The following sentence was misclassified:\")\n",
        "print()\n",
        "print(text_actual[4].strip())\n",
        "print()\n",
        "print(\"Actual: \" + str(label_batch[4]) )\n",
        "print(\"Predicted: \" + str(pred[4][0]) )\n",
        "print()\n",
        "#############\n",
        "print(\"-----------------\")\n",
        "print(\"The following sentence was misclassified:\")\n",
        "print()\n",
        "print(text_actual[10].strip())\n",
        "print()\n",
        "print(\"Actual: \" + str(label_batch[10]) )\n",
        "print(\"Predicted: \" + str(pred[10][0]) )\n",
        "print()\n",
        "#############\n",
        "print(\"-----------------\")\n",
        "print(\"The following sentence was misclassified:\")\n",
        "print()\n",
        "print(text_actual[19].strip())\n",
        "print()\n",
        "print(\"Actual: \" + str(label_batch[19]) )\n",
        "print(\"Predicted: \" + str(pred[19][0]) )\n",
        "print()\n",
        "#############"
      ],
      "metadata": {
        "colab": {
          "base_uri": "https://localhost:8080/"
        },
        "id": "_GiC5UlrgW72",
        "outputId": "42457fb4-69a6-4b08-e3f5-8ece836ceccf"
      },
      "execution_count": null,
      "outputs": [
        {
          "output_type": "stream",
          "name": "stdout",
          "text": [
            "-----------------\n",
            "The following sentence was misclassified:\n",
            "\n",
            "b'I plugged it in only to find out not a darn thing worked.'\n",
            "\n",
            "Actual: Negative Sentiment\n",
            "Predicted: Positive Sentiment\n",
            "\n",
            "-----------------\n",
            "The following sentence was misclassified:\n",
            "\n",
            "b'I am going to have to be the first to negatively review this product.'\n",
            "\n",
            "Actual: Negative Sentiment\n",
            "Predicted: Positive Sentiment\n",
            "\n",
            "-----------------\n",
            "The following sentence was misclassified:\n",
            "\n",
            "b'We received a WHITE colored battery that goes DEAD after a couple hoursTHe original used to last a week - but still lasts longer than thereplacement'\n",
            "\n",
            "Actual: Positive Sentiment\n",
            "Predicted: Negative Sentiment\n",
            "\n"
          ]
        }
      ]
    }
  ]
}