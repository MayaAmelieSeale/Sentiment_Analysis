{
  "nbformat": 4,
  "nbformat_minor": 0,
  "metadata": {
    "colab": {
      "provenance": []
    },
    "kernelspec": {
      "name": "python3",
      "display_name": "Python 3"
    },
    "language_info": {
      "name": "python"
    }
  },
  "cells": [
    {
      "cell_type": "code",
      "execution_count": null,
      "metadata": {
        "id": "eXC37sIKV1-k"
      },
      "outputs": [],
      "source": [
        "url = \"https://storage.googleapis.com/doggies-doggies/amazon_cells_labelled.txt\"\n",
        "import pandas as pd\n",
        "import sklearn\n",
        "from sklearn import feature_extraction\n",
        "from sklearn.feature_extraction import text\n",
        "from sklearn.feature_extraction.text import CountVectorizer\n",
        "from nltk.tokenize import RegexpTokenizer\n",
        "\n",
        "dataset = pd.read_csv(url, delimiter = \"\\t\", names = ['Reviews', 'Class'])\n"
      ]
    },
    {
      "cell_type": "code",
      "source": [
        "dataset.head(10)"
      ],
      "metadata": {
        "colab": {
          "base_uri": "https://localhost:8080/",
          "height": 363
        },
        "id": "kneob9xRYvzq",
        "outputId": "1a46a70b-078a-476a-8235-b9130e659823"
      },
      "execution_count": null,
      "outputs": [
        {
          "output_type": "execute_result",
          "data": {
            "text/plain": [
              "                                             Reviews  Class\n",
              "0  So there is no way for me to plug it in here i...      0\n",
              "1                        Good case, Excellent value.      1\n",
              "2                             Great for the jawbone.      1\n",
              "3  Tied to charger for conversations lasting more...      0\n",
              "4                                  The mic is great.      1\n",
              "5  I have to jiggle the plug to get it to line up...      0\n",
              "6  If you have several dozen or several hundred c...      0\n",
              "7        If you are Razr owner...you must have this!      1\n",
              "8                Needless to say, I wasted my money.      0\n",
              "9                   What a waste of money and time!.      0"
            ],
            "text/html": [
              "\n",
              "  <div id=\"df-04d19d05-829e-4b04-9b6c-c06dd14e0b06\">\n",
              "    <div class=\"colab-df-container\">\n",
              "      <div>\n",
              "<style scoped>\n",
              "    .dataframe tbody tr th:only-of-type {\n",
              "        vertical-align: middle;\n",
              "    }\n",
              "\n",
              "    .dataframe tbody tr th {\n",
              "        vertical-align: top;\n",
              "    }\n",
              "\n",
              "    .dataframe thead th {\n",
              "        text-align: right;\n",
              "    }\n",
              "</style>\n",
              "<table border=\"1\" class=\"dataframe\">\n",
              "  <thead>\n",
              "    <tr style=\"text-align: right;\">\n",
              "      <th></th>\n",
              "      <th>Reviews</th>\n",
              "      <th>Class</th>\n",
              "    </tr>\n",
              "  </thead>\n",
              "  <tbody>\n",
              "    <tr>\n",
              "      <th>0</th>\n",
              "      <td>So there is no way for me to plug it in here i...</td>\n",
              "      <td>0</td>\n",
              "    </tr>\n",
              "    <tr>\n",
              "      <th>1</th>\n",
              "      <td>Good case, Excellent value.</td>\n",
              "      <td>1</td>\n",
              "    </tr>\n",
              "    <tr>\n",
              "      <th>2</th>\n",
              "      <td>Great for the jawbone.</td>\n",
              "      <td>1</td>\n",
              "    </tr>\n",
              "    <tr>\n",
              "      <th>3</th>\n",
              "      <td>Tied to charger for conversations lasting more...</td>\n",
              "      <td>0</td>\n",
              "    </tr>\n",
              "    <tr>\n",
              "      <th>4</th>\n",
              "      <td>The mic is great.</td>\n",
              "      <td>1</td>\n",
              "    </tr>\n",
              "    <tr>\n",
              "      <th>5</th>\n",
              "      <td>I have to jiggle the plug to get it to line up...</td>\n",
              "      <td>0</td>\n",
              "    </tr>\n",
              "    <tr>\n",
              "      <th>6</th>\n",
              "      <td>If you have several dozen or several hundred c...</td>\n",
              "      <td>0</td>\n",
              "    </tr>\n",
              "    <tr>\n",
              "      <th>7</th>\n",
              "      <td>If you are Razr owner...you must have this!</td>\n",
              "      <td>1</td>\n",
              "    </tr>\n",
              "    <tr>\n",
              "      <th>8</th>\n",
              "      <td>Needless to say, I wasted my money.</td>\n",
              "      <td>0</td>\n",
              "    </tr>\n",
              "    <tr>\n",
              "      <th>9</th>\n",
              "      <td>What a waste of money and time!.</td>\n",
              "      <td>0</td>\n",
              "    </tr>\n",
              "  </tbody>\n",
              "</table>\n",
              "</div>\n",
              "      <button class=\"colab-df-convert\" onclick=\"convertToInteractive('df-04d19d05-829e-4b04-9b6c-c06dd14e0b06')\"\n",
              "              title=\"Convert this dataframe to an interactive table.\"\n",
              "              style=\"display:none;\">\n",
              "        \n",
              "  <svg xmlns=\"http://www.w3.org/2000/svg\" height=\"24px\"viewBox=\"0 0 24 24\"\n",
              "       width=\"24px\">\n",
              "    <path d=\"M0 0h24v24H0V0z\" fill=\"none\"/>\n",
              "    <path d=\"M18.56 5.44l.94 2.06.94-2.06 2.06-.94-2.06-.94-.94-2.06-.94 2.06-2.06.94zm-11 1L8.5 8.5l.94-2.06 2.06-.94-2.06-.94L8.5 2.5l-.94 2.06-2.06.94zm10 10l.94 2.06.94-2.06 2.06-.94-2.06-.94-.94-2.06-.94 2.06-2.06.94z\"/><path d=\"M17.41 7.96l-1.37-1.37c-.4-.4-.92-.59-1.43-.59-.52 0-1.04.2-1.43.59L10.3 9.45l-7.72 7.72c-.78.78-.78 2.05 0 2.83L4 21.41c.39.39.9.59 1.41.59.51 0 1.02-.2 1.41-.59l7.78-7.78 2.81-2.81c.8-.78.8-2.07 0-2.86zM5.41 20L4 18.59l7.72-7.72 1.47 1.35L5.41 20z\"/>\n",
              "  </svg>\n",
              "      </button>\n",
              "      \n",
              "  <style>\n",
              "    .colab-df-container {\n",
              "      display:flex;\n",
              "      flex-wrap:wrap;\n",
              "      gap: 12px;\n",
              "    }\n",
              "\n",
              "    .colab-df-convert {\n",
              "      background-color: #E8F0FE;\n",
              "      border: none;\n",
              "      border-radius: 50%;\n",
              "      cursor: pointer;\n",
              "      display: none;\n",
              "      fill: #1967D2;\n",
              "      height: 32px;\n",
              "      padding: 0 0 0 0;\n",
              "      width: 32px;\n",
              "    }\n",
              "\n",
              "    .colab-df-convert:hover {\n",
              "      background-color: #E2EBFA;\n",
              "      box-shadow: 0px 1px 2px rgba(60, 64, 67, 0.3), 0px 1px 3px 1px rgba(60, 64, 67, 0.15);\n",
              "      fill: #174EA6;\n",
              "    }\n",
              "\n",
              "    [theme=dark] .colab-df-convert {\n",
              "      background-color: #3B4455;\n",
              "      fill: #D2E3FC;\n",
              "    }\n",
              "\n",
              "    [theme=dark] .colab-df-convert:hover {\n",
              "      background-color: #434B5C;\n",
              "      box-shadow: 0px 1px 3px 1px rgba(0, 0, 0, 0.15);\n",
              "      filter: drop-shadow(0px 1px 2px rgba(0, 0, 0, 0.3));\n",
              "      fill: #FFFFFF;\n",
              "    }\n",
              "  </style>\n",
              "\n",
              "      <script>\n",
              "        const buttonEl =\n",
              "          document.querySelector('#df-04d19d05-829e-4b04-9b6c-c06dd14e0b06 button.colab-df-convert');\n",
              "        buttonEl.style.display =\n",
              "          google.colab.kernel.accessAllowed ? 'block' : 'none';\n",
              "\n",
              "        async function convertToInteractive(key) {\n",
              "          const element = document.querySelector('#df-04d19d05-829e-4b04-9b6c-c06dd14e0b06');\n",
              "          const dataTable =\n",
              "            await google.colab.kernel.invokeFunction('convertToInteractive',\n",
              "                                                     [key], {});\n",
              "          if (!dataTable) return;\n",
              "\n",
              "          const docLinkHtml = 'Like what you see? Visit the ' +\n",
              "            '<a target=\"_blank\" href=https://colab.research.google.com/notebooks/data_table.ipynb>data table notebook</a>'\n",
              "            + ' to learn more about interactive tables.';\n",
              "          element.innerHTML = '';\n",
              "          dataTable['output_type'] = 'display_data';\n",
              "          await google.colab.output.renderOutput(dataTable, element);\n",
              "          const docLink = document.createElement('div');\n",
              "          docLink.innerHTML = docLinkHtml;\n",
              "          element.appendChild(docLink);\n",
              "        }\n",
              "      </script>\n",
              "    </div>\n",
              "  </div>\n",
              "  "
            ]
          },
          "metadata": {},
          "execution_count": 4
        }
      ]
    },
    {
      "cell_type": "code",
      "source": [
        "token = RegexpTokenizer(r'[a-zA-Z0-9]+')\n",
        "cv = CountVectorizer(stop_words='english',ngram_range = (1,1),tokenizer = token.tokenize)\n",
        "text_counts = cv.fit_transform(dataset['Reviews'])"
      ],
      "metadata": {
        "id": "5-itc3fJZHpI"
      },
      "execution_count": null,
      "outputs": []
    },
    {
      "cell_type": "code",
      "source": [
        "from sklearn.model_selection import train_test_split\n",
        "X_train, X_test, Y_train, Y_test = train_test_split(text_counts, dataset['Class'], test_size=0.20, random_state=5)"
      ],
      "metadata": {
        "id": "OEbm5lzDc644"
      },
      "execution_count": null,
      "outputs": []
    },
    {
      "cell_type": "code",
      "source": [
        "from pickle import FALSE\n",
        "\n",
        "from sklearn.naive_bayes import MultinomialNB\n",
        "MNB = MultinomialNB(alpha = 4)\n",
        "MNB.fit(X_train, Y_train)"
      ],
      "metadata": {
        "colab": {
          "base_uri": "https://localhost:8080/"
        },
        "id": "uB8pgS_BdGS8",
        "outputId": "548cae52-a6c3-4604-a780-3b3dbdfc4c12"
      },
      "execution_count": null,
      "outputs": [
        {
          "output_type": "execute_result",
          "data": {
            "text/plain": [
              "MultinomialNB(alpha=4)"
            ]
          },
          "metadata": {},
          "execution_count": 7
        }
      ]
    },
    {
      "cell_type": "code",
      "source": [
        "\n",
        "\n",
        "\n",
        "\n",
        "\n",
        "\n",
        "from sklearn import metrics\n",
        "predicted = MNB.predict(X_test)\n",
        "\n",
        "accuracy_score = metrics.accuracy_score(predicted, Y_test)"
      ],
      "metadata": {
        "id": "fQoHijAFdKMf"
      },
      "execution_count": null,
      "outputs": []
    },
    {
      "cell_type": "code",
      "source": [
        "\n",
        "print(str('{:04.2f}'.format(accuracy_score*100))+'%')\n"
      ],
      "metadata": {
        "colab": {
          "base_uri": "https://localhost:8080/"
        },
        "id": "EEeKaREpdYDu",
        "outputId": "91dc5d4d-0a10-400e-9619-888eda23cc95"
      },
      "execution_count": null,
      "outputs": [
        {
          "output_type": "stream",
          "name": "stdout",
          "text": [
            "77.00%\n"
          ]
        }
      ]
    },
    {
      "cell_type": "code",
      "source": [
        "# Now trying TfidVectorizer\n",
        "from sklearn.feature_extraction.text import TfidfVectorizer\n",
        "tfidf = TfidfVectorizer(ngram_range = (1,1))\n",
        "text_count_2 = tfidf.fit_transform(dataset['Reviews'])\n",
        "\n",
        "#splitting the data in test and training\n",
        "#from sklearn.model_selection() import train_test_split()\n",
        "x_train, x_test, y_train, y_test = train_test_split(text_count_2, dataset['Class'],test_size=0.20,random_state=5)\n",
        "print(dataset['Reviews'].shape)\n",
        "print(x_test.shape)\n",
        "print(text_count_2.shape)"
      ],
      "metadata": {
        "id": "3DE_a17edaUF",
        "colab": {
          "base_uri": "https://localhost:8080/"
        },
        "outputId": "20f118a1-4063-440e-edd7-6ed82946a778"
      },
      "execution_count": null,
      "outputs": [
        {
          "output_type": "stream",
          "name": "stdout",
          "text": [
            "(1000,)\n",
            "(200, 1847)\n",
            "(1000, 1847)\n"
          ]
        }
      ]
    },
    {
      "cell_type": "code",
      "source": [
        "from sklearn.naive_bayes import BernoulliNB\n",
        "BNB = BernoulliNB(alpha = 2 )\n",
        "BNB.fit(x_train, y_train)\n",
        "accuracy_score_bnb = metrics.accuracy_score(BNB.predict(x_test),y_test)\n",
        "print('BNB accuracy = ' + str('{:4.2f}'.format(accuracy_score_bnb*100))+'%')"
      ],
      "metadata": {
        "colab": {
          "base_uri": "https://localhost:8080/"
        },
        "id": "nasO1a35qrlH",
        "outputId": "4b9f7ad3-9fcc-4b78-832f-a6f7bff7a1c2"
      },
      "execution_count": null,
      "outputs": [
        {
          "output_type": "stream",
          "name": "stdout",
          "text": [
            "BNB accuracy = 82.00%\n"
          ]
        }
      ]
    },
    {
      "cell_type": "code",
      "source": [
        "from sklearn.naive_bayes import GaussianNB\n",
        "GNB = GaussianNB()\n",
        "GNB.fit(x_train.todense(), y_train)\n",
        "accuracy_score_gnb = metrics.accuracy_score(GNB.predict(x_test.todense()), y_test)\n",
        "print('accuracy_score_gnb = '+str('{:4.2f}'.format(accuracy_score_gnb*100))+'%')"
      ],
      "metadata": {
        "colab": {
          "base_uri": "https://localhost:8080/"
        },
        "id": "bxvCidvinyHX",
        "outputId": "102115aa-cd2f-4f4d-b07d-11ac0afc6996"
      },
      "execution_count": null,
      "outputs": [
        {
          "output_type": "stream",
          "name": "stdout",
          "text": [
            "accuracy_score_gnb = 68.50%\n"
          ]
        },
        {
          "output_type": "stream",
          "name": "stderr",
          "text": [
            "/usr/local/lib/python3.8/dist-packages/sklearn/utils/validation.py:593: FutureWarning: np.matrix usage is deprecated in 1.0 and will raise a TypeError in 1.2. Please convert to a numpy array with np.asarray. For more information see: https://numpy.org/doc/stable/reference/generated/numpy.matrix.html\n",
            "  warnings.warn(\n",
            "/usr/local/lib/python3.8/dist-packages/sklearn/utils/validation.py:593: FutureWarning: np.matrix usage is deprecated in 1.0 and will raise a TypeError in 1.2. Please convert to a numpy array with np.asarray. For more information see: https://numpy.org/doc/stable/reference/generated/numpy.matrix.html\n",
            "  warnings.warn(\n"
          ]
        }
      ]
    },
    {
      "cell_type": "code",
      "source": [
        "from sklearn.naive_bayes import ComplementNB\n",
        "#Fitting the model\n",
        "CNB = ComplementNB(alpha = 2 , norm = True\n",
        "                )\n",
        "CNB.fit(x_train, y_train)\n",
        "accuracy_score = metrics.accuracy_score(CNB.predict(x_test),y_test)\n",
        "\n",
        "print(str('{:4.2f}'.format(accuracy_score*100))+'%')"
      ],
      "metadata": {
        "colab": {
          "base_uri": "https://localhost:8080/"
        },
        "id": "5djNlO4TmPgg",
        "outputId": "bebd93ec-6fc5-4dcd-8ff9-2797c9600e73"
      },
      "execution_count": null,
      "outputs": [
        {
          "output_type": "stream",
          "name": "stdout",
          "text": [
            "82.50%\n"
          ]
        }
      ]
    },
    {
      "cell_type": "code",
      "source": [
        "MNB.fit(x_train, y_train)\n"
      ],
      "metadata": {
        "colab": {
          "base_uri": "https://localhost:8080/"
        },
        "id": "uWYGzGXyk5Yk",
        "outputId": "32afe5cd-2a26-4d97-c165-a327565a4f9f"
      },
      "execution_count": null,
      "outputs": [
        {
          "output_type": "execute_result",
          "data": {
            "text/plain": [
              "MultinomialNB(alpha=4)"
            ]
          },
          "metadata": {},
          "execution_count": 92
        }
      ]
    },
    {
      "cell_type": "code",
      "source": [
        "text_count_2\n",
        "\n",
        "pred = MNB.predict(x_test)\n",
        "\n",
        "accuracy_score_mnb = metrics.accuracy_score(MNB.predict(x_test), y_test)\n",
        "print('accuracy_score_mnb = '+str('{:4.2f}'.format(accuracy_score_mnb*100))+'%')"
      ],
      "metadata": {
        "colab": {
          "base_uri": "https://localhost:8080/"
        },
        "id": "j5sRczF3k8MW",
        "outputId": "2312407c-91de-4e38-bc17-1d39634ae679"
      },
      "execution_count": null,
      "outputs": [
        {
          "output_type": "stream",
          "name": "stdout",
          "text": [
            "accuracy_score_mnb = 83.50%\n"
          ]
        }
      ]
    },
    {
      "cell_type": "code",
      "source": [
        "from sklearn.metrics import confusion_matrix\n",
        "cm = confusion_matrix(y_test, pred)"
      ],
      "metadata": {
        "id": "DPiZywIZk_yv"
      },
      "execution_count": null,
      "outputs": []
    },
    {
      "cell_type": "code",
      "source": [
        "from sklearn.metrics import ConfusionMatrixDisplay\n",
        "cm_display = ConfusionMatrixDisplay(cm).plot()\n"
      ],
      "metadata": {
        "id": "mF3_qNJFrpYI",
        "colab": {
          "base_uri": "https://localhost:8080/",
          "height": 279
        },
        "outputId": "f15dbc55-8732-4ed2-cdb6-91420a3c3431"
      },
      "execution_count": null,
      "outputs": [
        {
          "output_type": "display_data",
          "data": {
            "text/plain": [
              "<Figure size 432x288 with 2 Axes>"
            ],
            "image/png": "[encoded data removed]"
          },
          "metadata": {
            "needs_background": "light"
          }
        }
      ]
    },
    {
      "cell_type": "code",
      "source": [
        "from sklearn.metrics import roc_curve\n",
        "from sklearn.metrics import RocCurveDisplay\n",
        "\n",
        "fpr, tpr, _ = roc_curve(y_test, pred)\n",
        "roc_display = RocCurveDisplay(fpr=fpr, tpr=tpr).plot()"
      ],
      "metadata": {
        "colab": {
          "base_uri": "https://localhost:8080/",
          "height": 279
        },
        "id": "_EeKFL857Sco",
        "outputId": "21d25d2c-3688-417d-985d-697836fee5a6"
      },
      "execution_count": null,
      "outputs": [
        {
          "output_type": "display_data",
          "data": {
            "text/plain": [
              "<Figure size 432x288 with 1 Axes>"
            ],
            "image/png": "[encoded data removed]"
          },
          "metadata": {
            "needs_background": "light"
          }
        }
      ]
    },
    {
      "cell_type": "code",
      "source": [
        "import numpy as np\n",
        "import os\n",
        "from os import system as sys\n",
        "\n",
        "sliced = dataset[0:50]\n"
      ],
      "metadata": {
        "id": "p7YT6G-Gu4hK"
      },
      "execution_count": null,
      "outputs": []
    },
    {
      "cell_type": "code",
      "source": [
        "\n",
        "labels = dataset['Class']\n",
        "from sklearn.feature_extraction.text import TfidfVectorizer\n",
        "tfidf = TfidfVectorizer(ngram_range = (1,1))\n",
        "text_count_3 = tfidf.fit_transform( dataset['Reviews'])\n",
        "x_test = text_count_3[0:150]\n",
        "y_test = labels[0:150]\n",
        "#splitting the data in test and training\n",
        "#from sklearn.model_selection() import train_test_split()\n",
        "print(sliced['Reviews'].shape)\n",
        "print(x_test.shape)\n",
        "print(text_count_3.shape)\n",
        "rev = dataset['Reviews']"
      ],
      "metadata": {
        "id": "ZdpSNkUfypAi",
        "colab": {
          "base_uri": "https://localhost:8080/"
        },
        "outputId": "af29b77d-2b6a-4af0-d784-4408ce1669a6"
      },
      "execution_count": null,
      "outputs": [
        {
          "output_type": "stream",
          "name": "stdout",
          "text": [
            "(50,)\n",
            "(150, 1847)\n",
            "(1000, 1847)\n"
          ]
        }
      ]
    },
    {
      "cell_type": "markdown",
      "source": [
        "Project requires examples of errors, so we will probe for errors with the following"
      ],
      "metadata": {
        "id": "-f5dfVWG07iC"
      }
    },
    {
      "cell_type": "code",
      "source": [
        "accuracy_score_mnb = metrics.accuracy_score(MNB.predict(x_test), y_test)\n",
        "preds = MNB.predict(x_test)\n",
        "\n",
        "print('accuracy_score_mnb = '+str('{:4.2f}'.format(accuracy_score_mnb*100))+'%')\n",
        "j = 0\n",
        "for i in y_test.iteritems():\n",
        "  print(\"-----------------------------------\")\n",
        "  print(\"Actual: \" + str(i[1]) )\n",
        "  print(\"Predicted: \" + str(preds[j]))\n",
        "  j= j + 1"
      ],
      "metadata": {
        "colab": {
          "base_uri": "https://localhost:8080/"
        },
        "id": "Llmvc_z-FCtw",
        "outputId": "7b381608-238a-44ab-85e1-f80189ae651a"
      },
      "execution_count": null,
      "outputs": [
        {
          "output_type": "stream",
          "name": "stdout",
          "text": [
            "accuracy_score_mnb = 93.33%\n",
            "-----------------------------------\n",
            "Actual: 0\n",
            "Predicted: 0\n",
            "-----------------------------------\n",
            "Actual: 1\n",
            "Predicted: 1\n",
            "-----------------------------------\n",
            "Actual: 1\n",
            "Predicted: 1\n",
            "-----------------------------------\n",
            "Actual: 0\n",
            "Predicted: 0\n",
            "-----------------------------------\n",
            "Actual: 1\n",
            "Predicted: 1\n",
            "-----------------------------------\n",
            "Actual: 0\n",
            "Predicted: 0\n",
            "-----------------------------------\n",
            "Actual: 0\n",
            "Predicted: 0\n",
            "-----------------------------------\n",
            "Actual: 1\n",
            "Predicted: 0\n",
            "-----------------------------------\n",
            "Actual: 0\n",
            "Predicted: 0\n",
            "-----------------------------------\n",
            "Actual: 0\n",
            "Predicted: 0\n",
            "-----------------------------------\n",
            "Actual: 1\n",
            "Predicted: 1\n",
            "-----------------------------------\n",
            "Actual: 1\n",
            "Predicted: 0\n",
            "-----------------------------------\n",
            "Actual: 0\n",
            "Predicted: 0\n",
            "-----------------------------------\n",
            "Actual: 1\n",
            "Predicted: 1\n",
            "-----------------------------------\n",
            "Actual: 0\n",
            "Predicted: 0\n",
            "-----------------------------------\n",
            "Actual: 1\n",
            "Predicted: 1\n",
            "-----------------------------------\n",
            "Actual: 0\n",
            "Predicted: 0\n",
            "-----------------------------------\n",
            "Actual: 1\n",
            "Predicted: 1\n",
            "-----------------------------------\n",
            "Actual: 1\n",
            "Predicted: 1\n",
            "-----------------------------------\n",
            "Actual: 0\n",
            "Predicted: 0\n",
            "-----------------------------------\n",
            "Actual: 0\n",
            "Predicted: 0\n",
            "-----------------------------------\n",
            "Actual: 1\n",
            "Predicted: 1\n",
            "-----------------------------------\n",
            "Actual: 0\n",
            "Predicted: 0\n",
            "-----------------------------------\n",
            "Actual: 1\n",
            "Predicted: 0\n",
            "-----------------------------------\n",
            "Actual: 0\n",
            "Predicted: 0\n",
            "-----------------------------------\n",
            "Actual: 1\n",
            "Predicted: 1\n",
            "-----------------------------------\n",
            "Actual: 1\n",
            "Predicted: 1\n",
            "-----------------------------------\n",
            "Actual: 0\n",
            "Predicted: 0\n",
            "-----------------------------------\n",
            "Actual: 0\n",
            "Predicted: 0\n",
            "-----------------------------------\n",
            "Actual: 0\n",
            "Predicted: 0\n",
            "-----------------------------------\n",
            "Actual: 0\n",
            "Predicted: 1\n",
            "-----------------------------------\n",
            "Actual: 1\n",
            "Predicted: 1\n",
            "-----------------------------------\n",
            "Actual: 0\n",
            "Predicted: 0\n",
            "-----------------------------------\n",
            "Actual: 0\n",
            "Predicted: 1\n",
            "-----------------------------------\n",
            "Actual: 1\n",
            "Predicted: 0\n",
            "-----------------------------------\n",
            "Actual: 0\n",
            "Predicted: 0\n",
            "-----------------------------------\n",
            "Actual: 1\n",
            "Predicted: 1\n",
            "-----------------------------------\n",
            "Actual: 0\n",
            "Predicted: 0\n",
            "-----------------------------------\n",
            "Actual: 1\n",
            "Predicted: 1\n",
            "-----------------------------------\n",
            "Actual: 0\n",
            "Predicted: 0\n",
            "-----------------------------------\n",
            "Actual: 1\n",
            "Predicted: 1\n",
            "-----------------------------------\n",
            "Actual: 0\n",
            "Predicted: 0\n",
            "-----------------------------------\n",
            "Actual: 1\n",
            "Predicted: 1\n",
            "-----------------------------------\n",
            "Actual: 0\n",
            "Predicted: 0\n",
            "-----------------------------------\n",
            "Actual: 1\n",
            "Predicted: 1\n",
            "-----------------------------------\n",
            "Actual: 1\n",
            "Predicted: 1\n",
            "-----------------------------------\n",
            "Actual: 0\n",
            "Predicted: 0\n",
            "-----------------------------------\n",
            "Actual: 0\n",
            "Predicted: 0\n",
            "-----------------------------------\n",
            "Actual: 1\n",
            "Predicted: 1\n",
            "-----------------------------------\n",
            "Actual: 0\n",
            "Predicted: 0\n",
            "-----------------------------------\n",
            "Actual: 0\n",
            "Predicted: 0\n",
            "-----------------------------------\n",
            "Actual: 1\n",
            "Predicted: 0\n",
            "-----------------------------------\n",
            "Actual: 1\n",
            "Predicted: 1\n",
            "-----------------------------------\n",
            "Actual: 1\n",
            "Predicted: 1\n",
            "-----------------------------------\n",
            "Actual: 1\n",
            "Predicted: 1\n",
            "-----------------------------------\n",
            "Actual: 1\n",
            "Predicted: 1\n",
            "-----------------------------------\n",
            "Actual: 0\n",
            "Predicted: 0\n",
            "-----------------------------------\n",
            "Actual: 1\n",
            "Predicted: 1\n",
            "-----------------------------------\n",
            "Actual: 1\n",
            "Predicted: 1\n",
            "-----------------------------------\n",
            "Actual: 0\n",
            "Predicted: 0\n",
            "-----------------------------------\n",
            "Actual: 0\n",
            "Predicted: 0\n",
            "-----------------------------------\n",
            "Actual: 1\n",
            "Predicted: 1\n",
            "-----------------------------------\n",
            "Actual: 1\n",
            "Predicted: 1\n",
            "-----------------------------------\n",
            "Actual: 0\n",
            "Predicted: 0\n",
            "-----------------------------------\n",
            "Actual: 0\n",
            "Predicted: 0\n",
            "-----------------------------------\n",
            "Actual: 0\n",
            "Predicted: 0\n",
            "-----------------------------------\n",
            "Actual: 0\n",
            "Predicted: 0\n",
            "-----------------------------------\n",
            "Actual: 1\n",
            "Predicted: 1\n",
            "-----------------------------------\n",
            "Actual: 1\n",
            "Predicted: 1\n",
            "-----------------------------------\n",
            "Actual: 1\n",
            "Predicted: 1\n",
            "-----------------------------------\n",
            "Actual: 0\n",
            "Predicted: 0\n",
            "-----------------------------------\n",
            "Actual: 0\n",
            "Predicted: 0\n",
            "-----------------------------------\n",
            "Actual: 1\n",
            "Predicted: 1\n",
            "-----------------------------------\n",
            "Actual: 1\n",
            "Predicted: 1\n",
            "-----------------------------------\n",
            "Actual: 1\n",
            "Predicted: 1\n",
            "-----------------------------------\n",
            "Actual: 1\n",
            "Predicted: 1\n",
            "-----------------------------------\n",
            "Actual: 0\n",
            "Predicted: 0\n",
            "-----------------------------------\n",
            "Actual: 1\n",
            "Predicted: 1\n",
            "-----------------------------------\n",
            "Actual: 1\n",
            "Predicted: 1\n",
            "-----------------------------------\n",
            "Actual: 0\n",
            "Predicted: 0\n",
            "-----------------------------------\n",
            "Actual: 1\n",
            "Predicted: 1\n",
            "-----------------------------------\n",
            "Actual: 0\n",
            "Predicted: 0\n",
            "-----------------------------------\n",
            "Actual: 1\n",
            "Predicted: 1\n",
            "-----------------------------------\n",
            "Actual: 0\n",
            "Predicted: 0\n",
            "-----------------------------------\n",
            "Actual: 0\n",
            "Predicted: 0\n",
            "-----------------------------------\n",
            "Actual: 1\n",
            "Predicted: 1\n",
            "-----------------------------------\n",
            "Actual: 1\n",
            "Predicted: 1\n",
            "-----------------------------------\n",
            "Actual: 0\n",
            "Predicted: 0\n",
            "-----------------------------------\n",
            "Actual: 1\n",
            "Predicted: 1\n",
            "-----------------------------------\n",
            "Actual: 1\n",
            "Predicted: 1\n",
            "-----------------------------------\n",
            "Actual: 0\n",
            "Predicted: 0\n",
            "-----------------------------------\n",
            "Actual: 1\n",
            "Predicted: 1\n",
            "-----------------------------------\n",
            "Actual: 1\n",
            "Predicted: 1\n",
            "-----------------------------------\n",
            "Actual: 0\n",
            "Predicted: 0\n",
            "-----------------------------------\n",
            "Actual: 0\n",
            "Predicted: 0\n",
            "-----------------------------------\n",
            "Actual: 1\n",
            "Predicted: 1\n",
            "-----------------------------------\n",
            "Actual: 0\n",
            "Predicted: 0\n",
            "-----------------------------------\n",
            "Actual: 0\n",
            "Predicted: 0\n",
            "-----------------------------------\n",
            "Actual: 1\n",
            "Predicted: 1\n",
            "-----------------------------------\n",
            "Actual: 0\n",
            "Predicted: 0\n",
            "-----------------------------------\n",
            "Actual: 1\n",
            "Predicted: 1\n",
            "-----------------------------------\n",
            "Actual: 0\n",
            "Predicted: 0\n",
            "-----------------------------------\n",
            "Actual: 1\n",
            "Predicted: 1\n",
            "-----------------------------------\n",
            "Actual: 1\n",
            "Predicted: 1\n",
            "-----------------------------------\n",
            "Actual: 0\n",
            "Predicted: 0\n",
            "-----------------------------------\n",
            "Actual: 1\n",
            "Predicted: 1\n",
            "-----------------------------------\n",
            "Actual: 0\n",
            "Predicted: 0\n",
            "-----------------------------------\n",
            "Actual: 1\n",
            "Predicted: 1\n",
            "-----------------------------------\n",
            "Actual: 0\n",
            "Predicted: 0\n",
            "-----------------------------------\n",
            "Actual: 0\n",
            "Predicted: 0\n",
            "-----------------------------------\n",
            "Actual: 1\n",
            "Predicted: 1\n",
            "-----------------------------------\n",
            "Actual: 1\n",
            "Predicted: 1\n",
            "-----------------------------------\n",
            "Actual: 1\n",
            "Predicted: 1\n",
            "-----------------------------------\n",
            "Actual: 1\n",
            "Predicted: 1\n",
            "-----------------------------------\n",
            "Actual: 1\n",
            "Predicted: 1\n",
            "-----------------------------------\n",
            "Actual: 1\n",
            "Predicted: 1\n",
            "-----------------------------------\n",
            "Actual: 0\n",
            "Predicted: 0\n",
            "-----------------------------------\n",
            "Actual: 1\n",
            "Predicted: 1\n",
            "-----------------------------------\n",
            "Actual: 1\n",
            "Predicted: 1\n",
            "-----------------------------------\n",
            "Actual: 1\n",
            "Predicted: 1\n",
            "-----------------------------------\n",
            "Actual: 1\n",
            "Predicted: 1\n",
            "-----------------------------------\n",
            "Actual: 0\n",
            "Predicted: 0\n",
            "-----------------------------------\n",
            "Actual: 1\n",
            "Predicted: 1\n",
            "-----------------------------------\n",
            "Actual: 0\n",
            "Predicted: 0\n",
            "-----------------------------------\n",
            "Actual: 1\n",
            "Predicted: 1\n",
            "-----------------------------------\n",
            "Actual: 1\n",
            "Predicted: 1\n",
            "-----------------------------------\n",
            "Actual: 0\n",
            "Predicted: 0\n",
            "-----------------------------------\n",
            "Actual: 0\n",
            "Predicted: 0\n",
            "-----------------------------------\n",
            "Actual: 1\n",
            "Predicted: 0\n",
            "-----------------------------------\n",
            "Actual: 0\n",
            "Predicted: 0\n",
            "-----------------------------------\n",
            "Actual: 1\n",
            "Predicted: 0\n",
            "-----------------------------------\n",
            "Actual: 1\n",
            "Predicted: 0\n",
            "-----------------------------------\n",
            "Actual: 1\n",
            "Predicted: 1\n",
            "-----------------------------------\n",
            "Actual: 1\n",
            "Predicted: 1\n",
            "-----------------------------------\n",
            "Actual: 0\n",
            "Predicted: 0\n",
            "-----------------------------------\n",
            "Actual: 0\n",
            "Predicted: 0\n",
            "-----------------------------------\n",
            "Actual: 1\n",
            "Predicted: 1\n",
            "-----------------------------------\n",
            "Actual: 1\n",
            "Predicted: 1\n",
            "-----------------------------------\n",
            "Actual: 0\n",
            "Predicted: 0\n",
            "-----------------------------------\n",
            "Actual: 1\n",
            "Predicted: 1\n",
            "-----------------------------------\n",
            "Actual: 0\n",
            "Predicted: 0\n",
            "-----------------------------------\n",
            "Actual: 0\n",
            "Predicted: 0\n",
            "-----------------------------------\n",
            "Actual: 0\n",
            "Predicted: 0\n",
            "-----------------------------------\n",
            "Actual: 0\n",
            "Predicted: 0\n",
            "-----------------------------------\n",
            "Actual: 0\n",
            "Predicted: 0\n",
            "-----------------------------------\n",
            "Actual: 1\n",
            "Predicted: 1\n",
            "-----------------------------------\n",
            "Actual: 0\n",
            "Predicted: 0\n",
            "-----------------------------------\n",
            "Actual: 0\n",
            "Predicted: 0\n",
            "-----------------------------------\n",
            "Actual: 0\n",
            "Predicted: 0\n",
            "-----------------------------------\n",
            "Actual: 0\n",
            "Predicted: 0\n"
          ]
        }
      ]
    },
    {
      "cell_type": "code",
      "source": [
        "mapp = {0: 'Negative Sentiment', 1: 'Positive Sentiment'}\n",
        "preds = np.vectorize(mapp.get)(preds)\n",
        "y_test = np.vectorize(mapp.get)(y_test)"
      ],
      "metadata": {
        "id": "RcucCsXV1Qs-"
      },
      "execution_count": null,
      "outputs": []
    },
    {
      "cell_type": "code",
      "source": [
        "i = 7\n",
        "print(\"-----------------\")\n",
        "print(\"The following sentence was misclassified:\")\n",
        "print()\n",
        "print(rev[i].strip())\n",
        "print()\n",
        "print(\"Actual: \" + str(y_test[i]) )\n",
        "print(\"Predicted: \" + str(preds[i]) )\n",
        "print()\n",
        "#############\n",
        "i = 11\n",
        "print(\"-----------------\")\n",
        "print(\"The following sentence was misclassified:\")\n",
        "print()\n",
        "print(rev[i].strip())\n",
        "print()\n",
        "print(\"Actual: \" + str(y_test[i]) )\n",
        "print(\"Predicted: \" + str(preds[i]) )\n",
        "print()\n",
        "#############\n",
        "i = 23\n",
        "print(\"-----------------\")\n",
        "print(\"The following sentence was misclassified:\")\n",
        "print()\n",
        "print(rev[i].strip())\n",
        "print()\n",
        "print(\"Actual: \" + str(y_test[i]) )\n",
        "print(\"Predicted: \" + str(preds[i]) )\n",
        "print()\n",
        "#############\n",
        "i = 30\n",
        "print(\"-----------------\")\n",
        "print(\"The following sentence was misclassified:\")\n",
        "print()\n",
        "print(rev[i].strip())\n",
        "print()\n",
        "print(\"Actual: \" + str(y_test[i]) )\n",
        "print(\"Predicted: \" + str(preds[i]) )\n",
        "print()\n",
        "#############\n",
        "i = 33\n",
        "print(\"-----------------\")\n",
        "print(\"The following sentence was misclassified:\")\n",
        "print()\n",
        "print(rev[i].strip())\n",
        "print()\n",
        "print(\"Actual: \" + str(y_test[i]) )\n",
        "print(\"Predicted: \" + str(preds[i]) )\n",
        "print()\n",
        "#############\n",
        "i = 34\n",
        "print(\"-----------------\")\n",
        "print(\"The following sentence was misclassified:\")\n",
        "print()\n",
        "print(rev[i].strip())\n",
        "print()\n",
        "print(\"Actual: \" + str(y_test[i]) )\n",
        "print(\"Predicted: \" + str(preds[i]) )\n",
        "print()\n",
        "#############\n",
        "i = 51\n",
        "print(\"-----------------\")\n",
        "print(\"The following sentence was misclassified:\")\n",
        "print()\n",
        "print(rev[i].strip())\n",
        "print()\n",
        "print(\"Actual: \" + str(y_test[i]) )\n",
        "print(\"Predicted: \" + str(preds[i]) )\n",
        "print()\n",
        "#############\n",
        "i = 128\n",
        "print(\"-----------------\")\n",
        "print(\"The following sentence was misclassified:\")\n",
        "print()\n",
        "print(rev[i].strip())\n",
        "print()\n",
        "print(\"Actual: \" + str(y_test[i]) )\n",
        "print(\"Predicted: \" + str(preds[i]) )\n",
        "print()\n",
        "#############\n",
        "i = 130\n",
        "print(\"-----------------\")\n",
        "print(\"The following sentence was misclassified:\")\n",
        "print()\n",
        "print(rev[i].strip())\n",
        "print()\n",
        "print(\"Actual: \" + str(y_test[i]) )\n",
        "print(\"Predicted: \" + str(preds[i]) )\n",
        "print()\n",
        "#############\n",
        "i = 131\n",
        "print(\"-----------------\")\n",
        "print(\"The following sentence was misclassified:\")\n",
        "print()\n",
        "print(rev[i].strip())\n",
        "print()\n",
        "print(\"Actual: \" + str(y_test[i]) )\n",
        "print(\"Predicted: \" + str(preds[i]) )\n",
        "print()\n",
        "#############"
      ],
      "metadata": {
        "colab": {
          "base_uri": "https://localhost:8080/"
        },
        "id": "otR6k7XHwQZi",
        "outputId": "8e34a96d-dede-44ae-8ea9-836827676a34"
      },
      "execution_count": null,
      "outputs": [
        {
          "output_type": "stream",
          "name": "stdout",
          "text": [
            "-----------------\n",
            "The following sentence was misclassified:\n",
            "\n",
            "If you are Razr owner...you must have this!\n",
            "\n",
            "Actual: Positive Sentiment\n",
            "Predicted: Negative Sentiment\n",
            "\n",
            "-----------------\n",
            "The following sentence was misclassified:\n",
            "\n",
            "He was very impressed when going from the original battery to the extended battery.\n",
            "\n",
            "Actual: Positive Sentiment\n",
            "Predicted: Negative Sentiment\n",
            "\n",
            "-----------------\n",
            "The following sentence was misclassified:\n",
            "\n",
            "I have yet to run this new battery below two bars and that's three days without charging.\n",
            "\n",
            "Actual: Positive Sentiment\n",
            "Predicted: Negative Sentiment\n",
            "\n",
            "-----------------\n",
            "The following sentence was misclassified:\n",
            "\n",
            "This is a simple little phone to use, but the breakage is unacceptible.\n",
            "\n",
            "Actual: Negative Sentiment\n",
            "Predicted: Positive Sentiment\n",
            "\n",
            "-----------------\n",
            "The following sentence was misclassified:\n",
            "\n",
            "I have two more years left in this contract and I hate this phone.\n",
            "\n",
            "Actual: Negative Sentiment\n",
            "Predicted: Positive Sentiment\n",
            "\n",
            "-----------------\n",
            "The following sentence was misclassified:\n",
            "\n",
            "Car charger as well as AC charger are included to make sure you never run out of juice.Highy recommended\n",
            "\n",
            "Actual: Positive Sentiment\n",
            "Predicted: Negative Sentiment\n",
            "\n",
            "-----------------\n",
            "The following sentence was misclassified:\n",
            "\n",
            "good protection and does not make phone too bulky.\n",
            "\n",
            "Actual: Positive Sentiment\n",
            "Predicted: Negative Sentiment\n",
            "\n",
            "-----------------\n",
            "The following sentence was misclassified:\n",
            "\n",
            "I've only had my bluetooth for a few weeks, but I really like it.\n",
            "\n",
            "Actual: Positive Sentiment\n",
            "Predicted: Negative Sentiment\n",
            "\n",
            "-----------------\n",
            "The following sentence was misclassified:\n",
            "\n",
            "It is so small and you don't even realize that it is there after a while of getting used to it.\n",
            "\n",
            "Actual: Positive Sentiment\n",
            "Predicted: Negative Sentiment\n",
            "\n",
            "-----------------\n",
            "The following sentence was misclassified:\n",
            "\n",
            "The accompanied software is almost brilliant.\n",
            "\n",
            "Actual: Positive Sentiment\n",
            "Predicted: Negative Sentiment\n",
            "\n"
          ]
        }
      ]
    },
    {
      "cell_type": "code",
      "source": [],
      "metadata": {
        "id": "rRQmmeSY0RkO"
      },
      "execution_count": null,
      "outputs": []
    }
  ]
}